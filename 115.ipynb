{
 "cells": [
  {
   "cell_type": "markdown",
   "id": "2f339925-6d7a-4ce7-bda5-c55ef413aefe",
   "metadata": {},
   "source": [
    "# Module 1: Data Wrangling with Python"
   ]
  },
  {
   "cell_type": "markdown",
   "id": "c38c74b3-b719-4a36-88b9-f1a2f607e568",
   "metadata": {},
   "source": [
    "## Sprint 1: Python Mastery"
   ]
  },
  {
   "cell_type": "markdown",
   "id": "6b003ebe-8ea9-42e3-89b3-9a9fdd3c3dde",
   "metadata": {},
   "source": [
    "## Part 5: Calculator"
   ]
  },
  {
   "cell_type": "markdown",
   "id": "ed198d32-d3af-407f-bd29-43132d8a288f",
   "metadata": {},
   "source": [
    "## New additions to the project review process\n\nThis is your first full practical project. Practical projects at the end of the Sprint will be reviewed by others - usually by one Senior Team Lead and one peer learner.\n\nPeer reviews have a much smaller weight compared to STLs when calculating the final score of a project since we are not expecting learners to always be fully objective. The STL score makes up 70% of the final score, while the peer correction makes up 30%. The final weighted average score of both projects needs to be at least 70% to pass. This means that in extreme cases, even if you get 0% from a peer review, you can still pass the project if you get 100% from an STL (0% * 0.3 + 100% * 0.7 = 70%). \n\nSTLs have an opportunity to \"force fail\" a project, however. If they see that regardless of the score received, you would still benefit greatly from improving the project and having another set of corrections, they will use this option which will lead to you requiring to re-do the correction. In the platform, this will be shown as a 0% score from the STL (even though individual criteria may lead to a higher score).\n\nThis is also why learners often prefer to do the peer correction first (even though is is **not** a requirement) – you can get useful feedback from your peers, improve the project and then have the STL correction.\n\nWhen booking a peer correction, you might get an STL if there are no learners available. This will result in both corrections being performed by an STL. However, the same STL cannot perform both corrections.\n\nTo become available to review others' projects yourself, you should click on the \"My Availability\" button in the top left corner of the Turing platform. By doing these corrections, you will receive correction points which you will need to receive further corrections yourself. Correction points are used every time you book a peer or STL review. You should set your availability once you complete this project, as you will then be able to start reviewing other learners who still need to complete this project.\n\nA learner can become a reviewer for a project when they have successfully passed the corrections for that Sprint themselves.\n\n## About this Part\n\nCongrats!\nYou completed almost all assignments and tasks of this Sprint.\nYou did a great job.\nIn this Part, you will need to prove all the skills that you learned.\nAs the final assignment of this Sprint, you will have to create your own Python package.\nYou will have to apply all that you have learned about OOP and \"Clean Code\" concepts.\n\nP.S. we don't expect this project to be perfect - you will continue to improve your skills and there will be many projects for you to apply your newly gained skills in the future.\nFor now just use what you have learned and try your best!\n\n## Objectives for this Part\n\n- Practice writing clean OOP-based Python code and testing it.\n- Practice creating your own Python package.\n- Understand and apply the required software license for your package.\n- Practice dealing with Python environments.\n\n---\n\n## The calculator\n\nYou will need to create a Python module and later transform it into a package.\nThis module will be a calculator.\nWhat you should do at first is initialize a new Python package structure and create a new file that will be used as a module.\n\n## Writing tests and documentation\n\nYou should also write tests that ensure that the basic functionality of the class is covered.\nMake sure that math operations returns expected results. Document your calculator class using docstrings.\nAdd an explanation of the package to the README file.\nTry to be as specific as possible: include instructions on how to install the package, how to use particular methods.  \n\n---\n\n## Requirements\n\nThe main package file should contain a class `Calculator` that should be able to perform these actions:  \n\n- Addition / Subtraction.\n- Multiplication / Division.\n- Take (n) root of a number.\n- Reset memory (**Calculator must have its own memory, meaning it should manipulate its starting number `0` until it is reset.**).\n\nThis means that, for example, `calculator` should perform actions with a value inside its memory (for this example, the value inside the calculator's memory is `0`): `calculator.add(2)` results in `2`.\n\nPresent your newly created Python package:\n\n* Make a short introduction to the repository of the package.\n* Install the package into the Google Colab's env using `pip`.\n* Showcase functionality of the created package.\n\n## Evaluation criteria\n\n1. Correct Python Package structure is initialized.\n2. Calculator module is created.\n3. Calculator class performs required actions.\n4. Tests are written.\n5. Code is written with PEP8 standards in mind.\n6. Code is well-documented.\n7. Project has an informative README file.\n8. Package is installable through `pip`.\n\n## Correction\n\nDuring your project correction, you should present it as if talking to a technical team lead and a senior co-worker working in your team.\nYou can assume that they will have strong data science and software engineering skills - they will understand technical jargon, they are expected to notice things that could have been done better, ask about the choices you've made (especially if you've made some questionable choices).\nIn addition, be careful not to spend your time explaining trivial concepts or code snippets that are simple - your best bet is to focus your presentation on the more difficult portions of your code.\n\nDuring a correction, you may get asked questions that test your understanding of covered topics.\n\n- What is Object-Oriented Programming? Select and explain two examples where using OOP concepts can improve the quality and usability of code.\n- What is \"Clean Code\"? Select four main key concepts and explain them using real-world examples.\n- Why do we need to document code? How can you do it? What should be provided inside the documentation?\n"
   ]
  },
  {
   "cell_type": "markdown",
   "id": "b7e8632f-4598-45e7-950c-9d8ec35df00b",
   "metadata": {},
   "source": [
    "## General Correction Guidelines\n\nFor an in-depth explanation about how corrections work at Turing College, please read [this doc](https://turingcollege.atlassian.net/wiki/spaces/DLG/pages/537395951/Peer+expert+reviews+corrections).\n"
   ]
  }
 ],
 "metadata": {
  "kernelspec": {
   "display_name": "Python 3",
   "language": "python",
   "name": "python3"
  },
  "language_info": {
   "codemirror_mode": {
    "name": "ipython",
    "version": 3
   },
   "file_extension": ".py",
   "mimetype": "text/x-python",
   "name": "python",
   "nbconvert_exporter": "python",
   "pygments_lexer": "ipython3",
   "version": "3.9.5"
  }
 },
 "nbformat": 4,
 "nbformat_minor": 5
}
